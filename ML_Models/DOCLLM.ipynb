{
  "cells": [
    {
      "cell_type": "code",
      "execution_count": 1,
      "metadata": {
        "colab": {
          "base_uri": "https://localhost:8080/"
        },
        "id": "FaJnGV-acXPi",
        "outputId": "67a940f7-3523-4746-c921-262c04a41eaa"
      },
      "outputs": [
        {
          "name": "stdout",
          "output_type": "stream",
          "text": [
            "\u001b[2K     \u001b[90m━━━━━━━━━━━━━━━━━━━━━━━━━━━━━━━━━━━━━━━━\u001b[0m \u001b[32m41.3/41.3 kB\u001b[0m \u001b[31m761.3 kB/s\u001b[0m eta \u001b[36m0:00:00\u001b[0m\n",
            "\u001b[2K     \u001b[90m━━━━━━━━━━━━━━━━━━━━━━━━━━━━━━━━━━━━━━━━\u001b[0m \u001b[32m510.5/510.5 kB\u001b[0m \u001b[31m7.2 MB/s\u001b[0m eta \u001b[36m0:00:00\u001b[0m\n",
            "\u001b[2K     \u001b[90m━━━━━━━━━━━━━━━━━━━━━━━━━━━━━━━━━━━━━━━━\u001b[0m \u001b[32m810.5/810.5 kB\u001b[0m \u001b[31m28.9 MB/s\u001b[0m eta \u001b[36m0:00:00\u001b[0m\n",
            "\u001b[2K     \u001b[90m━━━━━━━━━━━━━━━━━━━━━━━━━━━━━━━━━━━━━━━━\u001b[0m \u001b[32m262.4/262.4 kB\u001b[0m \u001b[31m19.0 MB/s\u001b[0m eta \u001b[36m0:00:00\u001b[0m\n",
            "\u001b[2K     \u001b[90m━━━━━━━━━━━━━━━━━━━━━━━━━━━━━━━━━━━━━━━━\u001b[0m \u001b[32m1.8/1.8 MB\u001b[0m \u001b[31m49.0 MB/s\u001b[0m eta \u001b[36m0:00:00\u001b[0m\n",
            "\u001b[2K     \u001b[90m━━━━━━━━━━━━━━━━━━━━━━━━━━━━━━━━━━━━━━━━\u001b[0m \u001b[32m18.9/18.9 MB\u001b[0m \u001b[31m47.2 MB/s\u001b[0m eta \u001b[36m0:00:00\u001b[0m\n",
            "\u001b[2K     \u001b[90m━━━━━━━━━━━━━━━━━━━━━━━━━━━━━━━━━━━━━━━━\u001b[0m \u001b[32m116.3/116.3 kB\u001b[0m \u001b[31m10.3 MB/s\u001b[0m eta \u001b[36m0:00:00\u001b[0m\n",
            "\u001b[2K     \u001b[90m━━━━━━━━━━━━━━━━━━━━━━━━━━━━━━━━━━━━━━━━\u001b[0m \u001b[32m194.1/194.1 kB\u001b[0m \u001b[31m11.7 MB/s\u001b[0m eta \u001b[36m0:00:00\u001b[0m\n",
            "\u001b[2K     \u001b[90m━━━━━━━━━━━━━━━━━━━━━━━━━━━━━━━━━━━━━━━━\u001b[0m \u001b[32m134.8/134.8 kB\u001b[0m \u001b[31m11.3 MB/s\u001b[0m eta \u001b[36m0:00:00\u001b[0m\n",
            "\u001b[2K     \u001b[90m━━━━━━━━━━━━━━━━━━━━━━━━━━━━━━━━━━━━━━━━\u001b[0m \u001b[32m1.8/1.8 MB\u001b[0m \u001b[31m53.5 MB/s\u001b[0m eta \u001b[36m0:00:00\u001b[0m\n",
            "\u001b[2K     \u001b[90m━━━━━━━━━━━━━━━━━━━━━━━━━━━━━━━━━━━━━━━━\u001b[0m \u001b[32m269.1/269.1 kB\u001b[0m \u001b[31m21.4 MB/s\u001b[0m eta \u001b[36m0:00:00\u001b[0m\n",
            "\u001b[2K     \u001b[90m━━━━━━━━━━━━━━━━━━━━━━━━━━━━━━━━━━━━━━━━\u001b[0m \u001b[32m71.6/71.6 kB\u001b[0m \u001b[31m1.6 MB/s\u001b[0m eta \u001b[36m0:00:00\u001b[0m\n",
            "\u001b[2K     \u001b[90m━━━━━━━━━━━━━━━━━━━━━━━━━━━━━━━━━━━━━━━━\u001b[0m \u001b[32m75.6/75.6 kB\u001b[0m \u001b[31m4.8 MB/s\u001b[0m eta \u001b[36m0:00:00\u001b[0m\n",
            "\u001b[2K     \u001b[90m━━━━━━━━━━━━━━━━━━━━━━━━━━━━━━━━━━━━━━━━\u001b[0m \u001b[32m49.4/49.4 kB\u001b[0m \u001b[31m3.8 MB/s\u001b[0m eta \u001b[36m0:00:00\u001b[0m\n",
            "\u001b[2K     \u001b[90m━━━━━━━━━━━━━━━━━━━━━━━━━━━━━━━━━━━━━━━━\u001b[0m \u001b[32m77.8/77.8 kB\u001b[0m \u001b[31m4.0 MB/s\u001b[0m eta \u001b[36m0:00:00\u001b[0m\n",
            "\u001b[2K     \u001b[90m━━━━━━━━━━━━━━━━━━━━━━━━━━━━━━━━━━━━━━━━\u001b[0m \u001b[32m58.3/58.3 kB\u001b[0m \u001b[31m5.0 MB/s\u001b[0m eta \u001b[36m0:00:00\u001b[0m\n",
            "\u001b[2K     \u001b[90m━━━━━━━━━━━━━━━━━━━━━━━━━━━━━━━━━━━━━━━━\u001b[0m \u001b[32m53.0/53.0 kB\u001b[0m \u001b[31m5.2 MB/s\u001b[0m eta \u001b[36m0:00:00\u001b[0m\n",
            "\u001b[2K     \u001b[90m━━━━━━━━━━━━━━━━━━━━━━━━━━━━━━━━━━━━━━━━\u001b[0m \u001b[32m138.5/138.5 kB\u001b[0m \u001b[31m2.2 MB/s\u001b[0m eta \u001b[36m0:00:00\u001b[0m\n",
            "\u001b[?25h"
          ]
        }
      ],
      "source": [
        "!pip install -q cassio datasets langchain openai tiktoken"
      ]
    },
    {
      "cell_type": "code",
      "execution_count": 2,
      "metadata": {
        "id": "8fZe8YBtcZ2L"
      },
      "outputs": [],
      "source": [
        "# LangChain components to use\n",
        "from langchain.vectorstores.cassandra import Cassandra\n",
        "from langchain.indexes.vectorstore import VectorStoreIndexWrapper\n",
        "from langchain.llms import OpenAI\n",
        "from langchain.embeddings import OpenAIEmbeddings\n",
        "\n",
        "# Support for dataset retrieval with Hugging Face\n",
        "from datasets import load_dataset\n",
        "\n",
        "# With CassIO, the engine powering the Astra DB integration in LangChain,\n",
        "# you will also initialize the DB connection:\n",
        "import cassio"
      ]
    },
    {
      "cell_type": "code",
      "execution_count": 3,
      "metadata": {
        "colab": {
          "base_uri": "https://localhost:8080/"
        },
        "id": "WqA8fwQwdtZm",
        "outputId": "2a1d63f6-15e6-44c3-b0e9-00b12d416ef0"
      },
      "outputs": [
        {
          "name": "stdout",
          "output_type": "stream",
          "text": [
            "Collecting PyPDF2\n",
            "  Downloading pypdf2-3.0.1-py3-none-any.whl (232 kB)\n",
            "\u001b[?25l     \u001b[90m━━━━━━━━━━━━━━━━━━━━━━━━━━━━━━━━━━━━━━━━\u001b[0m \u001b[32m0.0/232.6 kB\u001b[0m \u001b[31m?\u001b[0m eta \u001b[36m-:--:--\u001b[0m\r\u001b[2K     \u001b[91m━━━━━━━━━━━━━━━━━━━━━━━━━━━━━\u001b[0m\u001b[91m╸\u001b[0m\u001b[90m━━━━━━━━━━\u001b[0m \u001b[32m174.1/232.6 kB\u001b[0m \u001b[31m5.1 MB/s\u001b[0m eta \u001b[36m0:00:01\u001b[0m\r\u001b[2K     \u001b[90m━━━━━━━━━━━━━━━━━━━━━━━━━━━━━━━━━━━━━━━━\u001b[0m \u001b[32m232.6/232.6 kB\u001b[0m \u001b[31m5.0 MB/s\u001b[0m eta \u001b[36m0:00:00\u001b[0m\n",
            "\u001b[?25hInstalling collected packages: PyPDF2\n",
            "Successfully installed PyPDF2-3.0.1\n"
          ]
        }
      ],
      "source": [
        "!pip install PyPDF2"
      ]
    },
    {
      "cell_type": "code",
      "execution_count": 4,
      "metadata": {
        "id": "OG2V9_PQgyut"
      },
      "outputs": [],
      "source": [
        "from PyPDF2 import PdfReader"
      ]
    },
    {
      "cell_type": "code",
      "execution_count": 5,
      "metadata": {
        "id": "Z2iv2T3yg0VL"
      },
      "outputs": [],
      "source": [
        "ASTRA_DB_APPLICATION_TOKEN = \"AstraCS:NuZGQHstsNPGbzOtq:4efa46244c9670657c526a2cf935a4559e2e5922ae1c216dbc678\" # enter the \"AstraCS:...\" string found in in your Token JSON file\n",
        "ASTRA_DB_ID = \"9935c2ce-3c5b-494f-85d5bc82\" # enter your Database ID\n",
        "\n",
        "OPENAI_API_KEY = \"sk-XA2KGsnFFiYoLT3BlbkFJZK6oEyRwie50GEdeIJKl\" # enter your OpenAI key"
      ]
    },
    {
      "cell_type": "code",
      "execution_count": 26,
      "metadata": {
        "id": "oo1pIPXnhdJs"
      },
      "outputs": [],
      "source": [
        "pdfreader = PdfReader('/content/OS-A6-221080051.pdf')"
      ]
    },
    {
      "cell_type": "code",
      "execution_count": 27,
      "metadata": {
        "id": "Ei_tZ031h7Q8"
      },
      "outputs": [],
      "source": [
        "from typing_extensions import Concatenate\n",
        "# read text from pdf\n",
        "raw_text = ''\n",
        "for i, page in enumerate(pdfreader.pages):\n",
        "    content = page.extract_text()\n",
        "    if content:\n",
        "        raw_text += content"
      ]
    },
    {
      "cell_type": "code",
      "execution_count": 28,
      "metadata": {
        "colab": {
          "base_uri": "https://localhost:8080/",
          "height": 171
        },
        "id": "QEqnz21nh9Rh",
        "outputId": "0bfd63a1-574b-4385-e040-af1adba13e4a"
      },
      "outputs": [
        {
          "data": {
            "application/vnd.google.colaboratory.intrinsic+json": {
              "type": "string"
            },
            "text/plain": [
              "'Banker ’sAlgorithm\\nMAYANK\\nPALAN\\n/\\n221080051\\n/\\nS.\\nY.\\nB.\\nTech.\\nInformation\\nTechnology\\nAim\\nTo\\nstudy\\nand\\nimplement\\nbankers’\\nalgorithm\\nfor\\ndeadlock\\ndetection\\nand\\nimplement\\nalgorithm\\nfor\\ndeadlock\\ndetection\\nin\\nC\\nprogramming\\nlanguage.\\nTheory\\nDeadlockAvoidanceandDetection:\\nA\\ndeadlock\\nis\\na\\nsituation\\nwhere\\ntwo\\nor\\nmore\\nprocesses\\nare\\nunable\\nto\\nproceed\\nbecause\\neach\\nis\\nwaiting\\nfor\\nthe\\nother\\nto\\nrelease\\na\\nresource.\\nDeadlock\\navoidance\\nand\\ndetection\\nare\\ntwo\\nmethods\\nthat\\noperating\\nsystems\\nuse\\nto\\nhandle\\ndeadlocks.\\n1.\\nDeadlock\\nAvoidance\\nDeadlock\\nAvoidance\\nis\\na\\ndynamic\\napproach\\nthat\\nensures\\nthe\\nsystem\\nwill\\nalways\\nremain\\nin\\na\\nsafe\\nstate.\\nThe\\nsystem\\nrequires\\neach\\nprocess\\nto\\ndeclare\\nthe\\nmaximum\\nnumber\\nof\\neach\\nresource\\ntype\\nthat\\nit\\nmay\\nneed.\\nWhen\\na\\nprocess\\nrequests\\nresources,\\nthe\\nsystem\\nchecks\\nif\\ngranting\\nthese\\nresources\\nwill\\nleave\\nthe\\nsystem\\nin\\na\\nsafe\\nstate.\\nIf\\nit\\ndoes,\\nthe\\nresources\\nare\\ngranted;\\notherwise,\\nthe\\nprocess\\nmust\\nwait\\nuntil\\nit\\nis\\nsafe\\nto\\ngrant\\nthe\\nresources.\\n2.\\nDeadlock\\nDetection\\nIn\\ncontrast,\\ndeadlock\\ndetection\\nallows\\ndeadlocks\\nto\\noccur,\\nthen\\nidentifies\\nand\\nrecovers\\nfrom\\nthem.\\nThe\\nsystem\\nperiodically\\nchecks\\nfor\\ndeadlocks\\nusing\\nan\\nalgorithm\\nthat\\nexamines\\nthe\\nstate\\nof\\nresource\\nallocation\\nand\\nprocess\\nrequests.\\nIf\\na\\ndeadlock\\nis\\ndetected,\\nthe\\nsystem\\nmust\\ntake\\nsteps\\nto\\nrecover,\\nsuch\\nas\\nterminating\\nand\\nrestarting\\none\\nor\\nmore\\nof\\nthe\\ndeadlocked\\nprocesses.\\nBanker’sAlgorithm\\nThe\\nBanker’s\\nAlgorithm\\nis\\na\\ndeadlock\\navoidance\\nalgorithm\\nthat\\ntests\\nfor\\nsafety\\nby\\nsimulating\\nthe\\nallocation\\nof\\npredetermined\\nmaximum\\npossible\\namounts\\nof\\nall\\nresources,\\nthen\\nmakes\\nan\\n“s-state”\\ncheck\\nto\\ntest\\nfor\\npossible\\ndeadlock\\nconditions.DeadlockDetectionAlgorithm\\nA\\ndeadlock\\ndetection\\nalgorithm\\nchecks\\nthe\\nstatus\\nof\\nprocesses\\nand\\nresources\\nto\\ndetermine\\nwhether\\nany\\ndeadlock\\nhas\\noccurred.\\nIf\\na\\ndeadlock\\nis\\ndetected,\\nthe\\nsystem\\ntakes\\nappropriate\\nactions\\nto\\nrecover\\nfrom\\nthe\\ndeadlock.\\nCode/Output\\n1.Approach1-WithoutusingThreads\\n}\\n}\\nvoid\\ncalculate_need\\n()\\n{\\nfor\\n(\\nint\\ni\\n=\\n0\\n;\\ni\\n<\\nnp;\\ni\\n++\\n)\\n{\\nfor\\n(\\nint\\nj\\n=\\n0\\n;\\nj\\n<\\nnr;\\nj\\n++\\n)\\n{\\nneed\\n[i][j]\\n=\\nmax\\n[i][j]\\n-\\nallocation\\n[i][j];\\n}\\n}\\n}\\nvoid\\nbanker\\n()\\n{\\nint\\ni,\\nj,\\nk\\n=\\n0\\n,\\nflag;\\nint\\nfinish\\n[\\n10\\n],\\nsafe_sequence\\n[\\n10\\n];\\nfor\\n(i\\n=\\n0\\n;\\ni\\n<\\nnp;\\ni\\n++\\n)\\n{\\nfinish\\n[i]\\n=\\n0\\n;\\n}\\nfor\\n(i\\n=\\n0\\n;\\ni\\n<\\nnp;\\ni\\n++\\n)\\n{\\nflag\\n=\\n0\\n;\\nif\\n(\\nfinish\\n[i]\\n==\\n0\\n)\\n{\\nfor\\n(j\\n=\\n0\\n;\\nj\\n<\\nnr;\\nj\\n++\\n)\\n{\\nif\\n(\\nneed\\n[i][j]\\n>\\navailable\\n[j])\\n{\\nflag\\n=\\n1\\n;\\nbreak\\n;\\n}\\n}\\nif\\n(flag\\n==\\n0\\n)\\n{\\nfinish\\n[i]\\n=\\n1\\n;\\nsafe_sequence\\n[k]\\n=\\ni;k\\n++\\n;\\nfor\\n(j\\n=\\n0\\n;\\nj\\n<\\nnr;\\nj\\n++\\n)\\n{\\navailable\\n[j]\\n+=\\nallocation\\n[i][j];\\n}\\ni\\n=\\n-\\n1\\n;\\n}\\n}\\n}\\nflag\\n=\\n0\\n;\\nfor\\n(i\\n=\\n0\\n;\\ni\\n<\\nnp;\\ni\\n++\\n)\\n{\\nif\\n(\\nfinish\\n[i]\\n==\\n0\\n)\\n{\\nprintf\\n(\\n\"\\n\\\\n\\\\n\\nThe\\nsystem\\nis\\nin\\ndeadlock.\"\\n);\\nflag\\n=\\n1\\n;\\nbreak\\n;\\n}\\n}\\nif\\n(flag\\n==\\n0\\n)\\n{\\nprintf\\n(\\n\"\\n\\\\n\\\\n\\nThe\\nsystem\\nis\\nin\\nsafe\\nstate!\\n\\\\n\\nSafe\\nsequence\\nis\\n==>\"\\n);\\nfor\\n(i\\n=\\n0\\n;\\ni\\n<\\nnp;\\ni\\n++\\n)\\n{\\nprintf\\n(\\n\"\\nP\\n%d\\n\"\\n,\\nsafe_sequence\\n[i]);\\n}\\n}\\n}\\nint\\nmain\\n()\\n{\\nprintf\\n(\\n\"Enter\\nno.\\nof\\nprocesses\\n\\\\n\\n\"\\n);\\nscanf\\n(\\n\"\\n%d\\n\"\\n,\\n&\\nnp);printf\\n(\\n\"Enter\\nno.\\nof\\nresources\\n\\\\n\\n\"\\n);\\nscanf\\n(\\n\"\\n%d\\n\"\\n,\\n&\\nnr);\\nprintf\\n(\\n\"Enter\\nallocation\\nmatrix\\n\\\\n\\n\"\\n);\\nread_matrix\\n(allocation);\\nprintf\\n(\\n\"Enter\\nmax\\nrequirement\\nmatrix\\n\\\\n\\n\"\\n);\\nread_matrix\\n(max);\\nprintf\\n(\\n\"Enter\\navailable\\nresources\\n\\\\n\\n\"\\n);\\nfor\\n(\\nint\\nj\\n=\\n0\\n;\\nj\\n<\\nnr;\\nj\\n++\\n)\\n{\\nscanf\\n(\\n\"\\n%d\\n\"\\n,\\n&\\navailable\\n[j]);\\n}\\nprintf\\n(\\n\"\\n\\\\n\\n**********Entered\\nData**********\\n\\\\n\\\\n\\n\"\\n);\\nprintf\\n(\\n\"Initial\\nAllocation:\\n\\\\n\\n\"\\n);\\ndisplay_matrix\\n(allocation);\\nprintf\\n(\\n\"\\n\\\\n\\\\n\\nMaximum\\nRequirements:\\n\\\\n\\n\"\\n);\\ndisplay_matrix\\n(max);\\nprintf\\n(\\n\"\\n\\\\n\\\\n\\nAvailable\\nResources:\\n\\\\n\\n\"\\n);\\nfor\\n(\\nint\\nj\\n=\\n0\\n;\\nj\\n<\\nnr;\\nj\\n++\\n)\\n{\\nprintf\\n(\\n\"\\n%d\\n\"\\n,\\navailable\\n[j]);\\n}\\ncalculate_need\\n();\\nprintf\\n(\\n\"\\n\\\\n\\\\n\\nNeed\\nis\\n\\\\n\\n\"\\n);\\ndisplay_matrix\\n(need);\\nbanker\\n();\\nprintf\\n(\\n\"\\n\\\\n\\\\n\\\\n\\\\n\\n\"\\n);\\nreturn\\n0\\n;\\n}2.Approach2-Usingthreads\\nint\\navailable\\n[\\n10\\n];\\nint\\nmax\\n[\\n10\\n][\\n10\\n];\\nint\\nallocation\\n[\\n10\\n][\\n10\\n];\\nint\\nneed\\n[\\n10\\n][\\n10\\n];\\nint\\nfinish\\n[\\n10\\n];\\nint\\nsafe_sequence\\n[\\n10\\n];\\npthread_mutex_t\\nmutex\\n=\\nPTHREAD_MUTEX_INITIALIZER\\n;\\nvoid\\n*\\nprocess\\n(\\nvoid\\n*\\narg\\n)\\n{\\nint\\npid\\n=\\n*\\n(\\nint\\n*\\n)\\narg\\n;\\nint\\nflag\\n=\\n0\\n;\\nwhile\\n(\\n1\\n)\\n{\\npthread_mutex_lock\\n(\\n&\\nmutex\\n);\\nflag\\n=\\n0\\n;\\nif\\n(\\nfinish\\n[\\npid\\n]\\n==\\n0\\n)\\n{\\nfor\\n(\\nint\\nj\\n=\\n0\\n;\\nj\\n<\\nnr\\n;\\nj\\n++\\n)\\n{\\nif\\n(\\nneed\\n[\\npid\\n][\\nj\\n]\\n>\\navailable\\n[\\nj\\n])\\n{\\nflag\\n=\\n1\\n;\\nbreak\\n;\\n}\\n}\\nif\\n(\\nflag\\n==\\n0\\n)\\n{\\nfinish\\n[\\npid\\n]\\n=\\n1\\n;\\nprintf\\n(\\n\"\\n\\\\n\\nProcess\\nP\\n%d\\nis\\nfinishing...\\n\\\\n\\n\"\\n,\\npid\\n);\\nfor\\n(\\nint\\nj\\n=\\n0\\n;\\nj\\n<\\nnr\\n;\\nj\\n++\\n)\\n{available\\n[\\nj\\n]\\n+=\\nallocation\\n[\\npid\\n][\\nj\\n];\\n}\\npthread_mutex_unlock\\n(\\n&\\nmutex\\n);\\nbreak\\n;\\n}\\n}\\npthread_mutex_unlock\\n(\\n&\\nmutex\\n);\\nsleep\\n(\\n2\\n);\\n}\\npthread_exit\\n(\\nNULL\\n);\\n}\\nvoid\\ncalculate_need\\n()\\n{\\nfor\\n(\\nint\\ni\\n=\\n0\\n;\\ni\\n<\\nnp\\n;\\ni\\n++\\n)\\n{\\nfor\\n(\\nint\\nj\\n=\\n0\\n;\\nj\\n<\\nnr\\n;\\nj\\n++\\n)\\n{\\nneed\\n[\\ni\\n][\\nj\\n]\\n=\\nmax\\n[\\ni\\n][\\nj\\n]\\n-\\nallocation\\n[\\ni\\n][\\nj\\n];\\n}\\n}\\n}\\nint\\nmain\\n()\\n{\\nprintf\\n(\\n\"Enter\\nno.\\nof\\nprocesses\\n\\\\n\\n\"\\n);\\nscanf\\n(\\n\"\\n%d\\n\"\\n,\\n&\\nnp\\n);\\nprintf\\n(\\n\"Enter\\nno.\\nof\\nresources\\n\\\\n\\n\"\\n);\\nscanf\\n(\\n\"\\n%d\\n\"\\n,\\n&\\nnr\\n);printf\\n(\\n\"Enter\\nallocation\\nmatrix\\n(row-wise)\\n\\\\n\\n\"\\n);\\nfor\\n(\\nint\\ni\\n=\\n0\\n;\\ni\\n<\\nnp\\n;\\ni\\n++\\n)\\n{\\nfor\\n(\\nint\\nj\\n=\\n0\\n;\\nj\\n<\\nnr\\n;\\nj\\n++\\n)\\n{\\nscanf\\n(\\n\"\\n%d\\n\"\\n,\\n&\\nallocation\\n[\\ni\\n][\\nj\\n]);\\n}\\n}\\nprintf\\n(\\n\"Enter\\nmax\\nrequirement\\nmatrix\\n(row-wise)\\n\\\\n\\n\"\\n);\\nfor\\n(\\nint\\ni\\n=\\n0\\n;\\ni\\n<\\nnp\\n;\\ni\\n++\\n)\\n{\\nfor\\n(\\nint\\nj\\n=\\n0\\n;\\nj\\n<\\nnr\\n;\\nj\\n++\\n)\\n{\\nscanf\\n(\\n\"\\n%d\\n\"\\n,\\n&\\nmax\\n[\\ni\\n][\\nj\\n]);\\n}\\n}\\nprintf\\n(\\n\"Enter\\navailable\\nresources\\n\\\\n\\n\"\\n);\\nfor\\n(\\nint\\nj\\n=\\n0\\n;\\nj\\n<\\nnr\\n;\\nj\\n++\\n)\\n{\\nscanf\\n(\\n\"\\n%d\\n\"\\n,\\n&\\navailable\\n[\\nj\\n]);\\n}\\ncalculate_need\\n();\\npthread_t\\nthreads\\n[\\nnp\\n];\\nint\\npid\\n[\\nnp\\n];\\nprintf\\n(\\n\"\\n\\\\n\\n**********Initial\\nData**********\\n\\\\n\\\\n\\n\"\\n);\\nprintf\\n(\\n\"Initial\\nAllocation:\\n\\\\n\\n\"\\n);\\nfor\\n(\\nint\\ni\\n=\\n0\\n;\\ni\\n<\\nnp\\n;\\ni\\n++\\n)\\n{printf\\n(\\n\"P\\n%d\\n:\\n\"\\n,\\ni\\n);\\nfor\\n(\\nint\\nj\\n=\\n0\\n;\\nj\\n<\\nnr\\n;\\nj\\n++\\n)\\n{\\nprintf\\n(\\n\"\\n%d\\n\"\\n,\\nallocation\\n[\\ni\\n][\\nj\\n]);\\n}\\nprintf\\n(\\n\"\\n\\\\n\\n\"\\n);\\n}\\nprintf\\n(\\n\"\\n\\\\n\\nMaximum\\nRequirements:\\n\\\\n\\n\"\\n);\\nfor\\n(\\nint\\ni\\n=\\n0\\n;\\ni\\n<\\nnp\\n;\\ni\\n++\\n)\\n{\\nprintf\\n(\\n\"P\\n%d\\n:\\n\"\\n,\\ni\\n);\\nfor\\n(\\nint\\nj\\n=\\n0\\n;\\nj\\n<\\nnr\\n;\\nj\\n++\\n)\\n{\\nprintf\\n(\\n\"\\n%d\\n\"\\n,\\nmax\\n[\\ni\\n][\\nj\\n]);\\n}\\nprintf\\n(\\n\"\\n\\\\n\\n\"\\n);\\n}\\nprintf\\n(\\n\"\\n\\\\n\\nAvailable\\nResources:\\n\\\\n\\n\"\\n);\\nfor\\n(\\nint\\nj\\n=\\n0\\n;\\nj\\n<\\nnr\\n;\\nj\\n++\\n)\\n{\\nprintf\\n(\\n\"\\n%d\\n\"\\n,\\navailable\\n[\\nj\\n]);\\n}\\nprintf\\n(\\n\"\\n\\\\n\\\\n\\n\"\\n);\\nfor\\n(\\nint\\ni\\n=\\n0\\n;\\ni\\n<\\nnp\\n;\\ni\\n++\\n)\\n{\\npid\\n[\\ni\\n]\\n=\\ni\\n;\\npthread_create\\n(\\n&\\nthreads\\n[\\ni\\n],\\nNULL\\n,\\nprocess\\n,\\n&\\npid\\n[\\ni\\n]);\\n}\\nsleep\\n(\\n5\\n);Conclusion\\nUnderstanding\\nthe\\nconcepts\\nof\\ndeadlock\\navoidance\\nand\\ndetection\\nis\\ncrucial\\nin\\noperating\\nsystem\\ndesign.\\nDeadlock\\navoidance\\nensures\\nthat\\nthe\\nsystem\\nremains\\nin\\na\\nsafe\\nstate,\\nwhile\\ndeadlock\\ndetection\\nidentifies\\nand\\nrecovers\\nfrom\\ndeadlocks\\nafter\\nthey\\noccur.\\nThe\\nBanker’s\\nAlgorithm\\nis\\nan\\neffective\\nmethod\\nfor\\ndeadlock\\navoidance,\\nand\\na\\ndeadlock\\ndetection\\nalgorithm\\ncan\\nbe\\nused\\nto\\nidentify\\nand\\nrecover\\nfrom\\ndeadlocks.\\nImplementing\\nthese\\nalgorithms\\nin\\nC\\nprogramming\\nprovides\\npractical\\nexperience\\nwith\\nthese\\nimportant\\nconcepts.'"
            ]
          },
          "execution_count": 28,
          "metadata": {},
          "output_type": "execute_result"
        }
      ],
      "source": [
        "raw_text"
      ]
    },
    {
      "cell_type": "code",
      "execution_count": 29,
      "metadata": {
        "colab": {
          "base_uri": "https://localhost:8080/"
        },
        "id": "Eoo94A3KiBW0",
        "outputId": "fe8e9c49-e430-495a-b117-ad13ed05559c"
      },
      "outputs": [
        {
          "name": "stderr",
          "output_type": "stream",
          "text": [
            "WARNING:cassandra.cluster:Downgrading core protocol version from 66 to 65 for 9935c2ce-3c5b-494f-8d72-736bd5d5bc82-us-east1.db.astra.datastax.com:29042:d964cd65-e324-4903-9b1e-d4ba799e7610. To avoid this, it is best practice to explicitly set Cluster(protocol_version) to the version supported by your cluster. http://datastax.github.io/python-driver/api/cassandra/cluster.html#cassandra.cluster.Cluster.protocol_version\n",
            "WARNING:cassandra.cluster:Downgrading core protocol version from 65 to 5 for 9935c2ce-3c5b-494f-8d72-736bd5d5bc82-us-east1.db.astra.datastax.com:29042:d964cd65-e324-4903-9b1e-d4ba799e7610. To avoid this, it is best practice to explicitly set Cluster(protocol_version) to the version supported by your cluster. http://datastax.github.io/python-driver/api/cassandra/cluster.html#cassandra.cluster.Cluster.protocol_version\n",
            "ERROR:cassandra.connection:Closing connection <LibevConnection(136351665276096) 9935c2ce-3c5b-494f-8d72-736bd5d5bc82-us-east1.db.astra.datastax.com:29042:d964cd65-e324-4903-9b1e-d4ba799e7610> due to protocol error: Error from server: code=000a [Protocol error] message=\"Beta version of the protocol used (5/v5-beta), but USE_BETA flag is unset\"\n",
            "WARNING:cassandra.cluster:Downgrading core protocol version from 5 to 4 for 9935c2ce-3c5b-494f-8d72-736bd5d5bc82-us-east1.db.astra.datastax.com:29042:d964cd65-e324-4903-9b1e-d4ba799e7610. To avoid this, it is best practice to explicitly set Cluster(protocol_version) to the version supported by your cluster. http://datastax.github.io/python-driver/api/cassandra/cluster.html#cassandra.cluster.Cluster.protocol_version\n"
          ]
        }
      ],
      "source": [
        "cassio.init(token=ASTRA_DB_APPLICATION_TOKEN, database_id=ASTRA_DB_ID)"
      ]
    },
    {
      "cell_type": "code",
      "execution_count": 30,
      "metadata": {
        "id": "bXOzh5XQiEg2"
      },
      "outputs": [],
      "source": [
        "llm = OpenAI(openai_api_key=OPENAI_API_KEY)\n",
        "embedding = OpenAIEmbeddings(openai_api_key=OPENAI_API_KEY)"
      ]
    },
    {
      "cell_type": "code",
      "execution_count": 31,
      "metadata": {
        "id": "bLZVbyVMiHMN"
      },
      "outputs": [],
      "source": [
        "astra_vector_store = Cassandra(\n",
        "    embedding=embedding,\n",
        "    table_name=\"qa_mini_demo\",\n",
        "    session=None,\n",
        "    keyspace=None,\n",
        ")"
      ]
    },
    {
      "cell_type": "code",
      "execution_count": 32,
      "metadata": {
        "id": "fhUUnWVXiJH1"
      },
      "outputs": [],
      "source": [
        "from langchain.text_splitter import CharacterTextSplitter\n",
        "# We need to split the text using Character Text Split such that it sshould not increse token size\n",
        "text_splitter = CharacterTextSplitter(\n",
        "    separator = \"\\n\",\n",
        "    chunk_size = 800,\n",
        "    chunk_overlap  = 200,\n",
        "    length_function = len,\n",
        ")\n",
        "texts = text_splitter.split_text(raw_text)"
      ]
    },
    {
      "cell_type": "code",
      "execution_count": 33,
      "metadata": {
        "colab": {
          "base_uri": "https://localhost:8080/"
        },
        "id": "-_MjqmXgiKwl",
        "outputId": "b0849753-a2e8-4eb1-dde6-584404f31002"
      },
      "outputs": [
        {
          "data": {
            "text/plain": [
              "['Banker ’sAlgorithm\\nMAYANK\\nPALAN\\n/\\n221080051\\n/\\nS.\\nY.\\nB.\\nTech.\\nInformation\\nTechnology\\nAim\\nTo\\nstudy\\nand\\nimplement\\nbankers’\\nalgorithm\\nfor\\ndeadlock\\ndetection\\nand\\nimplement\\nalgorithm\\nfor\\ndeadlock\\ndetection\\nin\\nC\\nprogramming\\nlanguage.\\nTheory\\nDeadlockAvoidanceandDetection:\\nA\\ndeadlock\\nis\\na\\nsituation\\nwhere\\ntwo\\nor\\nmore\\nprocesses\\nare\\nunable\\nto\\nproceed\\nbecause\\neach\\nis\\nwaiting\\nfor\\nthe\\nother\\nto\\nrelease\\na\\nresource.\\nDeadlock\\navoidance\\nand\\ndetection\\nare\\ntwo\\nmethods\\nthat\\noperating\\nsystems\\nuse\\nto\\nhandle\\ndeadlocks.\\n1.\\nDeadlock\\nAvoidance\\nDeadlock\\nAvoidance\\nis\\na\\ndynamic\\napproach\\nthat\\nensures\\nthe\\nsystem\\nwill\\nalways\\nremain\\nin\\na\\nsafe\\nstate.\\nThe\\nsystem\\nrequires\\neach\\nprocess\\nto\\ndeclare\\nthe\\nmaximum\\nnumber\\nof\\neach\\nresource\\ntype\\nthat\\nit\\nmay\\nneed.\\nWhen\\na\\nprocess\\nrequests\\nresources,\\nthe\\nsystem\\nchecks\\nif\\ngranting\\nthese',\n",
              " 'remain\\nin\\na\\nsafe\\nstate.\\nThe\\nsystem\\nrequires\\neach\\nprocess\\nto\\ndeclare\\nthe\\nmaximum\\nnumber\\nof\\neach\\nresource\\ntype\\nthat\\nit\\nmay\\nneed.\\nWhen\\na\\nprocess\\nrequests\\nresources,\\nthe\\nsystem\\nchecks\\nif\\ngranting\\nthese\\nresources\\nwill\\nleave\\nthe\\nsystem\\nin\\na\\nsafe\\nstate.\\nIf\\nit\\ndoes,\\nthe\\nresources\\nare\\ngranted;\\notherwise,\\nthe\\nprocess\\nmust\\nwait\\nuntil\\nit\\nis\\nsafe\\nto\\ngrant\\nthe\\nresources.\\n2.\\nDeadlock\\nDetection\\nIn\\ncontrast,\\ndeadlock\\ndetection\\nallows\\ndeadlocks\\nto\\noccur,\\nthen\\nidentifies\\nand\\nrecovers\\nfrom\\nthem.\\nThe\\nsystem\\nperiodically\\nchecks\\nfor\\ndeadlocks\\nusing\\nan\\nalgorithm\\nthat\\nexamines\\nthe\\nstate\\nof\\nresource\\nallocation\\nand\\nprocess\\nrequests.\\nIf\\na\\ndeadlock\\nis\\ndetected,\\nthe\\nsystem\\nmust\\ntake\\nsteps\\nto\\nrecover,\\nsuch\\nas\\nterminating\\nand\\nrestarting\\none\\nor\\nmore\\nof\\nthe\\ndeadlocked\\nprocesses.\\nBanker’sAlgorithm\\nThe\\nBanker’s\\nAlgorithm\\nis',\n",
              " 'requests.\\nIf\\na\\ndeadlock\\nis\\ndetected,\\nthe\\nsystem\\nmust\\ntake\\nsteps\\nto\\nrecover,\\nsuch\\nas\\nterminating\\nand\\nrestarting\\none\\nor\\nmore\\nof\\nthe\\ndeadlocked\\nprocesses.\\nBanker’sAlgorithm\\nThe\\nBanker’s\\nAlgorithm\\nis\\na\\ndeadlock\\navoidance\\nalgorithm\\nthat\\ntests\\nfor\\nsafety\\nby\\nsimulating\\nthe\\nallocation\\nof\\npredetermined\\nmaximum\\npossible\\namounts\\nof\\nall\\nresources,\\nthen\\nmakes\\nan\\n“s-state”\\ncheck\\nto\\ntest\\nfor\\npossible\\ndeadlock\\nconditions.DeadlockDetectionAlgorithm\\nA\\ndeadlock\\ndetection\\nalgorithm\\nchecks\\nthe\\nstatus\\nof\\nprocesses\\nand\\nresources\\nto\\ndetermine\\nwhether\\nany\\ndeadlock\\nhas\\noccurred.\\nIf\\na\\ndeadlock\\nis\\ndetected,\\nthe\\nsystem\\ntakes\\nappropriate\\nactions\\nto\\nrecover\\nfrom\\nthe\\ndeadlock.\\nCode/Output\\n1.Approach1-WithoutusingThreads\\n}\\n}\\nvoid\\ncalculate_need\\n()\\n{\\nfor\\n(\\nint\\ni\\n=\\n0\\n;\\ni\\n<\\nnp;\\ni\\n++\\n)\\n{\\nfor\\n(\\nint\\nj\\n=\\n0\\n;\\nj\\n<\\nnr;\\nj\\n++\\n)\\n{',\n",
              " 'takes\\nappropriate\\nactions\\nto\\nrecover\\nfrom\\nthe\\ndeadlock.\\nCode/Output\\n1.Approach1-WithoutusingThreads\\n}\\n}\\nvoid\\ncalculate_need\\n()\\n{\\nfor\\n(\\nint\\ni\\n=\\n0\\n;\\ni\\n<\\nnp;\\ni\\n++\\n)\\n{\\nfor\\n(\\nint\\nj\\n=\\n0\\n;\\nj\\n<\\nnr;\\nj\\n++\\n)\\n{\\nneed\\n[i][j]\\n=\\nmax\\n[i][j]\\n-\\nallocation\\n[i][j];\\n}\\n}\\n}\\nvoid\\nbanker\\n()\\n{\\nint\\ni,\\nj,\\nk\\n=\\n0\\n,\\nflag;\\nint\\nfinish\\n[\\n10\\n],\\nsafe_sequence\\n[\\n10\\n];\\nfor\\n(i\\n=\\n0\\n;\\ni\\n<\\nnp;\\ni\\n++\\n)\\n{\\nfinish\\n[i]\\n=\\n0\\n;\\n}\\nfor\\n(i\\n=\\n0\\n;\\ni\\n<\\nnp;\\ni\\n++\\n)\\n{\\nflag\\n=\\n0\\n;\\nif\\n(\\nfinish\\n[i]\\n==\\n0\\n)\\n{\\nfor\\n(j\\n=\\n0\\n;\\nj\\n<\\nnr;\\nj\\n++\\n)\\n{\\nif\\n(\\nneed\\n[i][j]\\n>\\navailable\\n[j])\\n{\\nflag\\n=\\n1\\n;\\nbreak\\n;\\n}\\n}\\nif\\n(flag\\n==\\n0\\n)\\n{\\nfinish\\n[i]\\n=\\n1\\n;\\nsafe_sequence\\n[k]\\n=\\ni;k\\n++\\n;\\nfor\\n(j\\n=\\n0\\n;\\nj\\n<\\nnr;\\nj\\n++\\n)\\n{\\navailable\\n[j]\\n+=\\nallocation\\n[i][j];\\n}\\ni\\n=\\n-\\n1\\n;\\n}\\n}\\n}\\nflag\\n=\\n0\\n;\\nfor\\n(i\\n=\\n0\\n;\\ni\\n<\\nnp;\\ni\\n++\\n)\\n{\\nif\\n(\\nfinish\\n[i]\\n==\\n0\\n)\\n{\\nprintf\\n(\\n\"\\n\\\\n\\\\n\\nThe\\nsystem\\nis\\nin\\ndeadlock.\"\\n);',\n",
              " ';\\nfor\\n(j\\n=\\n0\\n;\\nj\\n<\\nnr;\\nj\\n++\\n)\\n{\\navailable\\n[j]\\n+=\\nallocation\\n[i][j];\\n}\\ni\\n=\\n-\\n1\\n;\\n}\\n}\\n}\\nflag\\n=\\n0\\n;\\nfor\\n(i\\n=\\n0\\n;\\ni\\n<\\nnp;\\ni\\n++\\n)\\n{\\nif\\n(\\nfinish\\n[i]\\n==\\n0\\n)\\n{\\nprintf\\n(\\n\"\\n\\\\n\\\\n\\nThe\\nsystem\\nis\\nin\\ndeadlock.\"\\n);\\nflag\\n=\\n1\\n;\\nbreak\\n;\\n}\\n}\\nif\\n(flag\\n==\\n0\\n)\\n{\\nprintf\\n(\\n\"\\n\\\\n\\\\n\\nThe\\nsystem\\nis\\nin\\nsafe\\nstate!\\n\\\\n\\nSafe\\nsequence\\nis\\n==>\"\\n);\\nfor\\n(i\\n=\\n0\\n;\\ni\\n<\\nnp;\\ni\\n++\\n)\\n{\\nprintf\\n(\\n\"\\nP\\n%d\\n\"\\n,\\nsafe_sequence\\n[i]);\\n}\\n}\\n}\\nint\\nmain\\n()\\n{\\nprintf\\n(\\n\"Enter\\nno.\\nof\\nprocesses\\n\\\\n\\n\"\\n);\\nscanf\\n(\\n\"\\n%d\\n\"\\n,\\n&\\nnp);printf\\n(\\n\"Enter\\nno.\\nof\\nresources\\n\\\\n\\n\"\\n);\\nscanf\\n(\\n\"\\n%d\\n\"\\n,\\n&\\nnr);\\nprintf\\n(\\n\"Enter\\nallocation\\nmatrix\\n\\\\n\\n\"\\n);\\nread_matrix\\n(allocation);\\nprintf\\n(\\n\"Enter\\nmax\\nrequirement\\nmatrix\\n\\\\n\\n\"\\n);\\nread_matrix\\n(max);\\nprintf\\n(\\n\"Enter\\navailable\\nresources\\n\\\\n\\n\"\\n);\\nfor\\n(\\nint\\nj\\n=\\n0\\n;\\nj\\n<\\nnr;\\nj\\n++\\n)\\n{\\nscanf\\n(\\n\"\\n%d\\n\"\\n,\\n&\\navailable\\n[j]);\\n}\\nprintf\\n(\\n\"\\n\\\\n',\n",
              " 'printf\\n(\\n\"Enter\\nmax\\nrequirement\\nmatrix\\n\\\\n\\n\"\\n);\\nread_matrix\\n(max);\\nprintf\\n(\\n\"Enter\\navailable\\nresources\\n\\\\n\\n\"\\n);\\nfor\\n(\\nint\\nj\\n=\\n0\\n;\\nj\\n<\\nnr;\\nj\\n++\\n)\\n{\\nscanf\\n(\\n\"\\n%d\\n\"\\n,\\n&\\navailable\\n[j]);\\n}\\nprintf\\n(\\n\"\\n\\\\n\\n**********Entered\\nData**********\\n\\\\n\\\\n\\n\"\\n);\\nprintf\\n(\\n\"Initial\\nAllocation:\\n\\\\n\\n\"\\n);\\ndisplay_matrix\\n(allocation);\\nprintf\\n(\\n\"\\n\\\\n\\\\n\\nMaximum\\nRequirements:\\n\\\\n\\n\"\\n);\\ndisplay_matrix\\n(max);\\nprintf\\n(\\n\"\\n\\\\n\\\\n\\nAvailable\\nResources:\\n\\\\n\\n\"\\n);\\nfor\\n(\\nint\\nj\\n=\\n0\\n;\\nj\\n<\\nnr;\\nj\\n++\\n)\\n{\\nprintf\\n(\\n\"\\n%d\\n\"\\n,\\navailable\\n[j]);\\n}\\ncalculate_need\\n();\\nprintf\\n(\\n\"\\n\\\\n\\\\n\\nNeed\\nis\\n\\\\n\\n\"\\n);\\ndisplay_matrix\\n(need);\\nbanker\\n();\\nprintf\\n(\\n\"\\n\\\\n\\\\n\\\\n\\\\n\\n\"\\n);\\nreturn\\n0\\n;\\n}2.Approach2-Usingthreads\\nint\\navailable\\n[\\n10\\n];\\nint\\nmax\\n[\\n10\\n][\\n10\\n];\\nint\\nallocation\\n[\\n10\\n][\\n10\\n];\\nint\\nneed\\n[\\n10\\n][\\n10\\n];\\nint\\nfinish\\n[\\n10\\n];\\nint\\nsafe_sequence\\n[\\n10\\n];\\npthread_mutex_t\\nmutex',\n",
              " 'return\\n0\\n;\\n}2.Approach2-Usingthreads\\nint\\navailable\\n[\\n10\\n];\\nint\\nmax\\n[\\n10\\n][\\n10\\n];\\nint\\nallocation\\n[\\n10\\n][\\n10\\n];\\nint\\nneed\\n[\\n10\\n][\\n10\\n];\\nint\\nfinish\\n[\\n10\\n];\\nint\\nsafe_sequence\\n[\\n10\\n];\\npthread_mutex_t\\nmutex\\n=\\nPTHREAD_MUTEX_INITIALIZER\\n;\\nvoid\\n*\\nprocess\\n(\\nvoid\\n*\\narg\\n)\\n{\\nint\\npid\\n=\\n*\\n(\\nint\\n*\\n)\\narg\\n;\\nint\\nflag\\n=\\n0\\n;\\nwhile\\n(\\n1\\n)\\n{\\npthread_mutex_lock\\n(\\n&\\nmutex\\n);\\nflag\\n=\\n0\\n;\\nif\\n(\\nfinish\\n[\\npid\\n]\\n==\\n0\\n)\\n{\\nfor\\n(\\nint\\nj\\n=\\n0\\n;\\nj\\n<\\nnr\\n;\\nj\\n++\\n)\\n{\\nif\\n(\\nneed\\n[\\npid\\n][\\nj\\n]\\n>\\navailable\\n[\\nj\\n])\\n{\\nflag\\n=\\n1\\n;\\nbreak\\n;\\n}\\n}\\nif\\n(\\nflag\\n==\\n0\\n)\\n{\\nfinish\\n[\\npid\\n]\\n=\\n1\\n;\\nprintf\\n(\\n\"\\n\\\\n\\nProcess\\nP\\n%d\\nis\\nfinishing...\\n\\\\n\\n\"\\n,\\npid\\n);\\nfor\\n(\\nint\\nj\\n=\\n0\\n;\\nj\\n<\\nnr\\n;\\nj\\n++\\n)\\n{available\\n[\\nj\\n]\\n+=\\nallocation\\n[\\npid\\n][\\nj\\n];\\n}\\npthread_mutex_unlock\\n(\\n&\\nmutex\\n);\\nbreak\\n;\\n}\\n}\\npthread_mutex_unlock\\n(\\n&\\nmutex\\n);\\nsleep\\n(\\n2\\n);\\n}\\npthread_exit\\n(\\nNULL\\n);\\n}\\nvoid',\n",
              " 'int\\nj\\n=\\n0\\n;\\nj\\n<\\nnr\\n;\\nj\\n++\\n)\\n{available\\n[\\nj\\n]\\n+=\\nallocation\\n[\\npid\\n][\\nj\\n];\\n}\\npthread_mutex_unlock\\n(\\n&\\nmutex\\n);\\nbreak\\n;\\n}\\n}\\npthread_mutex_unlock\\n(\\n&\\nmutex\\n);\\nsleep\\n(\\n2\\n);\\n}\\npthread_exit\\n(\\nNULL\\n);\\n}\\nvoid\\ncalculate_need\\n()\\n{\\nfor\\n(\\nint\\ni\\n=\\n0\\n;\\ni\\n<\\nnp\\n;\\ni\\n++\\n)\\n{\\nfor\\n(\\nint\\nj\\n=\\n0\\n;\\nj\\n<\\nnr\\n;\\nj\\n++\\n)\\n{\\nneed\\n[\\ni\\n][\\nj\\n]\\n=\\nmax\\n[\\ni\\n][\\nj\\n]\\n-\\nallocation\\n[\\ni\\n][\\nj\\n];\\n}\\n}\\n}\\nint\\nmain\\n()\\n{\\nprintf\\n(\\n\"Enter\\nno.\\nof\\nprocesses\\n\\\\n\\n\"\\n);\\nscanf\\n(\\n\"\\n%d\\n\"\\n,\\n&\\nnp\\n);\\nprintf\\n(\\n\"Enter\\nno.\\nof\\nresources\\n\\\\n\\n\"\\n);\\nscanf\\n(\\n\"\\n%d\\n\"\\n,\\n&\\nnr\\n);printf\\n(\\n\"Enter\\nallocation\\nmatrix\\n(row-wise)\\n\\\\n\\n\"\\n);\\nfor\\n(\\nint\\ni\\n=\\n0\\n;\\ni\\n<\\nnp\\n;\\ni\\n++\\n)\\n{\\nfor\\n(\\nint\\nj\\n=\\n0\\n;\\nj\\n<\\nnr\\n;\\nj\\n++\\n)\\n{\\nscanf\\n(\\n\"\\n%d\\n\"\\n,\\n&\\nallocation\\n[\\ni\\n][\\nj\\n]);\\n}\\n}\\nprintf\\n(\\n\"Enter\\nmax\\nrequirement\\nmatrix\\n(row-wise)\\n\\\\n\\n\"\\n);\\nfor\\n(\\nint\\ni\\n=\\n0\\n;\\ni\\n<\\nnp\\n;\\ni\\n++\\n)\\n{\\nfor\\n(\\nint\\nj\\n=\\n0\\n;\\nj\\n<\\nnr\\n;\\nj\\n++\\n)',\n",
              " 'j\\n=\\n0\\n;\\nj\\n<\\nnr\\n;\\nj\\n++\\n)\\n{\\nscanf\\n(\\n\"\\n%d\\n\"\\n,\\n&\\nallocation\\n[\\ni\\n][\\nj\\n]);\\n}\\n}\\nprintf\\n(\\n\"Enter\\nmax\\nrequirement\\nmatrix\\n(row-wise)\\n\\\\n\\n\"\\n);\\nfor\\n(\\nint\\ni\\n=\\n0\\n;\\ni\\n<\\nnp\\n;\\ni\\n++\\n)\\n{\\nfor\\n(\\nint\\nj\\n=\\n0\\n;\\nj\\n<\\nnr\\n;\\nj\\n++\\n)\\n{\\nscanf\\n(\\n\"\\n%d\\n\"\\n,\\n&\\nmax\\n[\\ni\\n][\\nj\\n]);\\n}\\n}\\nprintf\\n(\\n\"Enter\\navailable\\nresources\\n\\\\n\\n\"\\n);\\nfor\\n(\\nint\\nj\\n=\\n0\\n;\\nj\\n<\\nnr\\n;\\nj\\n++\\n)\\n{\\nscanf\\n(\\n\"\\n%d\\n\"\\n,\\n&\\navailable\\n[\\nj\\n]);\\n}\\ncalculate_need\\n();\\npthread_t\\nthreads\\n[\\nnp\\n];\\nint\\npid\\n[\\nnp\\n];\\nprintf\\n(\\n\"\\n\\\\n\\n**********Initial\\nData**********\\n\\\\n\\\\n\\n\"\\n);\\nprintf\\n(\\n\"Initial\\nAllocation:\\n\\\\n\\n\"\\n);\\nfor\\n(\\nint\\ni\\n=\\n0\\n;\\ni\\n<\\nnp\\n;\\ni\\n++\\n)\\n{printf\\n(\\n\"P\\n%d\\n:\\n\"\\n,\\ni\\n);\\nfor\\n(\\nint\\nj\\n=\\n0\\n;\\nj\\n<\\nnr\\n;\\nj\\n++\\n)\\n{\\nprintf\\n(\\n\"\\n%d\\n\"\\n,\\nallocation\\n[\\ni\\n][\\nj\\n]);\\n}\\nprintf\\n(\\n\"\\n\\\\n\\n\"\\n);\\n}\\nprintf\\n(\\n\"\\n\\\\n\\nMaximum\\nRequirements:\\n\\\\n\\n\"\\n);\\nfor\\n(\\nint\\ni\\n=\\n0\\n;\\ni\\n<\\nnp\\n;\\ni\\n++\\n)\\n{\\nprintf\\n(\\n\"P\\n%d\\n:\\n\"\\n,\\ni\\n);\\nfor\\n(\\nint\\nj\\n=',\n",
              " '<\\nnr\\n;\\nj\\n++\\n)\\n{\\nprintf\\n(\\n\"\\n%d\\n\"\\n,\\nallocation\\n[\\ni\\n][\\nj\\n]);\\n}\\nprintf\\n(\\n\"\\n\\\\n\\n\"\\n);\\n}\\nprintf\\n(\\n\"\\n\\\\n\\nMaximum\\nRequirements:\\n\\\\n\\n\"\\n);\\nfor\\n(\\nint\\ni\\n=\\n0\\n;\\ni\\n<\\nnp\\n;\\ni\\n++\\n)\\n{\\nprintf\\n(\\n\"P\\n%d\\n:\\n\"\\n,\\ni\\n);\\nfor\\n(\\nint\\nj\\n=\\n0\\n;\\nj\\n<\\nnr\\n;\\nj\\n++\\n)\\n{\\nprintf\\n(\\n\"\\n%d\\n\"\\n,\\nmax\\n[\\ni\\n][\\nj\\n]);\\n}\\nprintf\\n(\\n\"\\n\\\\n\\n\"\\n);\\n}\\nprintf\\n(\\n\"\\n\\\\n\\nAvailable\\nResources:\\n\\\\n\\n\"\\n);\\nfor\\n(\\nint\\nj\\n=\\n0\\n;\\nj\\n<\\nnr\\n;\\nj\\n++\\n)\\n{\\nprintf\\n(\\n\"\\n%d\\n\"\\n,\\navailable\\n[\\nj\\n]);\\n}\\nprintf\\n(\\n\"\\n\\\\n\\\\n\\n\"\\n);\\nfor\\n(\\nint\\ni\\n=\\n0\\n;\\ni\\n<\\nnp\\n;\\ni\\n++\\n)\\n{\\npid\\n[\\ni\\n]\\n=\\ni\\n;\\npthread_create\\n(\\n&\\nthreads\\n[\\ni\\n],\\nNULL\\n,\\nprocess\\n,\\n&\\npid\\n[\\ni\\n]);\\n}\\nsleep\\n(\\n5\\n);Conclusion\\nUnderstanding\\nthe\\nconcepts\\nof\\ndeadlock\\navoidance\\nand\\ndetection\\nis\\ncrucial\\nin\\noperating\\nsystem\\ndesign.\\nDeadlock\\navoidance\\nensures\\nthat\\nthe\\nsystem\\nremains\\nin\\na\\nsafe\\nstate,\\nwhile\\ndeadlock\\ndetection\\nidentifies\\nand\\nrecovers\\nfrom\\ndeadlocks\\nafter',\n",
              " 'avoidance\\nand\\ndetection\\nis\\ncrucial\\nin\\noperating\\nsystem\\ndesign.\\nDeadlock\\navoidance\\nensures\\nthat\\nthe\\nsystem\\nremains\\nin\\na\\nsafe\\nstate,\\nwhile\\ndeadlock\\ndetection\\nidentifies\\nand\\nrecovers\\nfrom\\ndeadlocks\\nafter\\nthey\\noccur.\\nThe\\nBanker’s\\nAlgorithm\\nis\\nan\\neffective\\nmethod\\nfor\\ndeadlock\\navoidance,\\nand\\na\\ndeadlock\\ndetection\\nalgorithm\\ncan\\nbe\\nused\\nto\\nidentify\\nand\\nrecover\\nfrom\\ndeadlocks.\\nImplementing\\nthese\\nalgorithms\\nin\\nC\\nprogramming\\nprovides\\npractical\\nexperience\\nwith\\nthese\\nimportant\\nconcepts.']"
            ]
          },
          "execution_count": 33,
          "metadata": {},
          "output_type": "execute_result"
        }
      ],
      "source": [
        "texts[:50]"
      ]
    },
    {
      "cell_type": "code",
      "execution_count": 34,
      "metadata": {
        "colab": {
          "base_uri": "https://localhost:8080/"
        },
        "id": "0HFApclUiL9a",
        "outputId": "ea03df19-f0c8-4198-897f-6b065e4c2f53"
      },
      "outputs": [
        {
          "name": "stdout",
          "output_type": "stream",
          "text": [
            "Inserted 11 headlines.\n"
          ]
        }
      ],
      "source": [
        "astra_vector_store.add_texts(texts[:50])\n",
        "\n",
        "print(\"Inserted %i headlines.\" % len(texts[:50]))\n",
        "\n",
        "astra_vector_index = VectorStoreIndexWrapper(vectorstore=astra_vector_store)"
      ]
    },
    {
      "cell_type": "code",
      "execution_count": 35,
      "metadata": {
        "colab": {
          "base_uri": "https://localhost:8080/"
        },
        "id": "c8dC1BVyimI3",
        "outputId": "3354a82d-6b19-4314-8291-4e184a4b32a7"
      },
      "outputs": [
        {
          "name": "stdout",
          "output_type": "stream",
          "text": [
            "\n",
            "Enter your question (or type 'quit' to exit): what is banker algorithm\n",
            "\n",
            "QUESTION: \"what is banker algorithm\"\n"
          ]
        },
        {
          "name": "stderr",
          "output_type": "stream",
          "text": [
            "WARNING:cassandra.protocol:Server warning: Top-K queries can only be run with consistency level ONE / LOCAL_ONE / NODE_LOCAL. Consistency level LOCAL_QUORUM was requested. Downgrading the consistency level to LOCAL_ONE.\n",
            "WARNING:cassandra.protocol:Server warning: Top-K queries can only be run with consistency level ONE / LOCAL_ONE / NODE_LOCAL. Consistency level LOCAL_QUORUM was requested. Downgrading the consistency level to LOCAL_ONE.\n"
          ]
        },
        {
          "name": "stdout",
          "output_type": "stream",
          "text": [
            "ANSWER: \"The Banker's Algorithm is a method for deadlock avoidance in operating systems. It ensures that the system remains in a safe state by requiring processes to declare the maximum number of resources they may need. It is an effective method for preventing deadlocks, and can be implemented in C programming for practical experience with these concepts.\"\n",
            "\n",
            "FIRST DOCUMENTS BY RELEVANCE:\n",
            "    [0.8790] \"avoidance\n",
            "and\n",
            "detection\n",
            "is\n",
            "crucial\n",
            "in\n",
            "operating\n",
            "system\n",
            "design.\n",
            "Deadlock\n",
            "avoidance\n",
            "en ...\"\n",
            "    [0.8641] \"Banker ’sAlgorithm\n",
            "MAYANK\n",
            "PALAN\n",
            "/\n",
            "221080051\n",
            "/\n",
            "S.\n",
            "Y.\n",
            "B.\n",
            "Tech.\n",
            "Information\n",
            "Technology\n",
            " ...\"\n",
            "    [0.8543] \"remain\n",
            "in\n",
            "a\n",
            "safe\n",
            "state.\n",
            "The\n",
            "system\n",
            "requires\n",
            "each\n",
            "process\n",
            "to\n",
            "declare\n",
            "the\n",
            "maximum\n",
            "numb ...\"\n",
            "    [0.8388] \"algorithm solves\n",
            "•Itisveryimpor tanttospecifyexactlythesetofinstancesthe\n",
            "algorithm n ...\"\n",
            "\n",
            "What's your next question (or type 'quit' to exit): quit\n"
          ]
        }
      ],
      "source": [
        "first_question = True\n",
        "while True:\n",
        "    if first_question:\n",
        "        query_text = input(\"\\nEnter your question (or type 'quit' to exit): \").strip()\n",
        "    else:\n",
        "        query_text = input(\"\\nWhat's your next question (or type 'quit' to exit): \").strip()\n",
        "\n",
        "    if query_text.lower() == \"quit\":\n",
        "        break\n",
        "\n",
        "    if query_text == \"\":\n",
        "        continue\n",
        "\n",
        "    first_question = False\n",
        "\n",
        "    print(\"\\nQUESTION: \\\"%s\\\"\" % query_text)\n",
        "    answer = astra_vector_index.query(query_text, llm=llm).strip()\n",
        "    print(\"ANSWER: \\\"%s\\\"\\n\" % answer)\n",
        "\n",
        "    print(\"FIRST DOCUMENTS BY RELEVANCE:\")\n",
        "    for doc, score in astra_vector_store.similarity_search_with_score(query_text, k=4):\n",
        "        print(\"    [%0.4f] \\\"%s ...\\\"\" % (score, doc.page_content[:84]))"
      ]
    },
    {
      "cell_type": "code",
      "execution_count": null,
      "metadata": {
        "id": "jUZ39gSTioZ1"
      },
      "outputs": [],
      "source": []
    }
  ],
  "metadata": {
    "accelerator": "GPU",
    "colab": {
      "gpuType": "T4",
      "provenance": []
    },
    "kernelspec": {
      "display_name": "Python 3",
      "name": "python3"
    },
    "language_info": {
      "name": "python"
    }
  },
  "nbformat": 4,
  "nbformat_minor": 0
}
